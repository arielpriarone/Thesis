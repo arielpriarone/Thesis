{
 "cells": [
  {
   "cell_type": "code",
   "execution_count": 1,
   "metadata": {},
   "outputs": [],
   "source": [
    "%matplotlib widget\n",
    "import importlib\n",
    "import sys\n",
    "import matplotlib.pyplot as plt\n",
    "import numpy as np\n",
    "import os\n",
    "sys.path.append(\"..\")       # to make the upper folder visible\n",
    "import src\n",
    "_ = importlib.reload(src)   # this make changes in the src package immediately effective without restarting the kernel\n",
    "\n",
    "# folder path\n",
    "dirPath = \"../data/raw/1st_test_IMSBearing/\"\n",
    "indx=0\n",
    "fileList=[]\n",
    "for fileName in os.listdir(dirPath):\n",
    "    # check if current path is a file\n",
    "    if os.path.isfile(os.path.join(dirPath, fileName)):# and indx<6:\n",
    "        fileList.append(fileName)\n",
    "        snap=src.data.snapshot()\n",
    "        snap.readImsFile(path=dirPath+fileName, variables=\"Bearing 3 x\")\n",
    "        # ax=snap.rawData.plot(x='time',y='Bearing 1 x',legend=False)\n",
    "        # ax.grid(which='major',axis='both',color='grey', linestyle='-')\n",
    "        # ax.grid(which='minor',axis='both',color='grey', linestyle=':')\n",
    "        # ax.minorticks_on()\n",
    "        # plt.figure(clear=True)\n",
    "\n",
    "        # Frequency domain analisys\n",
    "        samplFreq=20000 #hz\n",
    "        y=snap.rawData[\"Bearing 3 x\"].to_numpy()\n",
    "        tpCount     = len(y)\n",
    "        fourierTransform = np.fft.fft(y)/len(y)           # Normalize amplitude\n",
    "        FFT=abs(fourierTransform[range(int(len(y)/2))])\n",
    "        if indx==0:\n",
    "            freqAnaly=FFT\n",
    "        else:\n",
    "            freqAnaly = np.vstack([freqAnaly, FFT])       # Exclude sampling frequency\n",
    "        values      = np.arange(int(tpCount/2))\n",
    "        timePeriod  = tpCount/samplFreq\n",
    "        FFTfrequencies = values/timePeriod\n",
    "        indx+=1\n",
    "\n"
   ]
  },
  {
   "cell_type": "code",
   "execution_count": 2,
   "metadata": {},
   "outputs": [
    {
     "name": "stdout",
     "output_type": "stream",
     "text": [
      "(2156, 10240)\n",
      "(2156, 10240)\n",
      "(2156, 10240)\n",
      "[0, 431, 862, 1293, 1724, 2155]\n"
     ]
    }
   ],
   "source": [
    "from mpl_toolkits import mplot3d\n",
    "x = np.arange(0,freqAnaly.shape[1],1)\n",
    "y = np.arange(0,freqAnaly.shape[0],1)\n",
    "X,Y = np.meshgrid(x,y)\n",
    "# Plot a 3D surface\n",
    "print(X.shape)\n",
    "print(Y.shape)\n",
    "print(freqAnaly.shape)\n",
    "fig = plt.figure('figure1')#,figsize=[15, 15])\n",
    "ax = plt.axes(projection='3d')\n",
    "ax.set_xlabel('Frequency [Hz]')\n",
    "ax.set_ylabel('Snapshots')\n",
    "ax.set_zlabel('amplitude')\n",
    "ax.yaxis.set_ticks(np.arange(0,6,1))\n",
    "dummy=np.round(np.linspace(0, len(fileList) - 1, 6)).astype(int).tolist()\n",
    "print(dummy)\n",
    "ax.set_yticklabels([fileList[i] for i in dummy])\n",
    "# Create surface plot\n",
    "ax.scatter(X, Y, freqAnaly, marker='.',c=freqAnaly/np.max(freqAnaly), cmap='turbo')\n",
    "\n",
    "plt.show()"
   ]
  }
 ],
 "metadata": {
  "kernelspec": {
   "display_name": "Python 3",
   "language": "python",
   "name": "python3"
  },
  "language_info": {
   "codemirror_mode": {
    "name": "ipython",
    "version": 3
   },
   "file_extension": ".py",
   "mimetype": "text/x-python",
   "name": "python",
   "nbconvert_exporter": "python",
   "pygments_lexer": "ipython3",
   "version": "3.11.2"
  },
  "orig_nbformat": 4
 },
 "nbformat": 4,
 "nbformat_minor": 2
}
