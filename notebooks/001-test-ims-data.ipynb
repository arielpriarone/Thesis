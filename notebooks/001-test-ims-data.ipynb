{
 "cells": [
  {
   "cell_type": "code",
   "execution_count": 96,
   "metadata": {},
   "outputs": [],
   "source": [
    "%matplotlib widget\n",
    "import sys\n",
    "import matplotlib.pyplot as plt\n",
    "import numpy as np\n",
    "sys.path.append(\"..\")       # to make the upper folder visible\n",
    "import src\n",
    "\n",
    "# folder path\n",
    "dirPath = \"../data/raw/1st_test_IMSBearing/\"\n",
    "fileName = \"2003.10.22.12.06.24\"\n",
    "\n",
    "snap1=src.data.snapshot()\n",
    "snap1.readImsFile(path=dirPath+fileName)\n",
    "#snap1.rawData.plot(x='time',y='Bearing 1 x',legend=False)\n",
    "#ax.grid(which='major', color='#444',linestyle='--')\n"
   ]
  }
 ],
 "metadata": {
  "kernelspec": {
   "display_name": "Python 3",
   "language": "python",
   "name": "python3"
  },
  "language_info": {
   "codemirror_mode": {
    "name": "ipython",
    "version": 3
   },
   "file_extension": ".py",
   "mimetype": "text/x-python",
   "name": "python",
   "nbconvert_exporter": "python",
   "pygments_lexer": "ipython3",
   "version": "3.11.2"
  },
  "orig_nbformat": 4
 },
 "nbformat": 4,
 "nbformat_minor": 2
}
