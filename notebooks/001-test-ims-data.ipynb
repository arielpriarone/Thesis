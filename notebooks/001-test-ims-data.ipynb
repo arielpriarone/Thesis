{
 "cells": [
  {
   "cell_type": "code",
   "execution_count": 32,
   "metadata": {},
   "outputs": [
    {
     "data": {
      "text/plain": [
       "<bound method NDFrame.head of        Bearing 1 x  Bearing 1 y  Bearing 2 x  Bearing 2 y  Bearing 3 x   \n",
       "0           -0.022       -0.039       -0.183       -0.054       -0.105  \\\n",
       "1           -0.105       -0.017       -0.164       -0.183       -0.049   \n",
       "2           -0.183       -0.098       -0.195       -0.125       -0.005   \n",
       "3           -0.178       -0.161       -0.159       -0.178       -0.100   \n",
       "4           -0.208       -0.129       -0.261       -0.098       -0.151   \n",
       "...            ...          ...          ...          ...          ...   \n",
       "20475       -0.022       -0.142        0.085       -0.078       -0.200   \n",
       "20476        0.024       -0.156        0.042       -0.039       -0.159   \n",
       "20477       -0.193       -0.303       -0.071       -0.125       -0.237   \n",
       "20478       -0.115        0.076       -0.078       -0.332       -0.027   \n",
       "20479       -0.042        0.098        0.103       -0.059       -0.002   \n",
       "\n",
       "       Bearing 3 y  Bearing 4 x  Bearing 4 y  \n",
       "0           -0.134       -0.129       -0.142  \n",
       "1            0.029       -0.115       -0.122  \n",
       "2           -0.007       -0.171       -0.071  \n",
       "3           -0.115       -0.112       -0.078  \n",
       "4           -0.205       -0.063       -0.066  \n",
       "...            ...          ...          ...  \n",
       "20475       -0.198       -0.134       -0.093  \n",
       "20476       -0.071       -0.227       -0.132  \n",
       "20477       -0.251       -0.151        0.007  \n",
       "20478       -0.002       -0.151       -0.005  \n",
       "20479       -0.342       -0.095       -0.276  \n",
       "\n",
       "[20480 rows x 8 columns]>"
      ]
     },
     "execution_count": 32,
     "metadata": {},
     "output_type": "execute_result"
    }
   ],
   "source": [
    "import sys\n",
    "sys.path.append(\"..\")       # to make the upper folder visible\n",
    "import src as src\n",
    "\n",
    "# folder path\n",
    "dirPath = \"../data/raw/1st_test_IMSBearing/\"\n",
    "fileName = \"2003.10.22.12.06.24\"\n",
    "\n",
    "snap1=src.data.snapshot()\n",
    "snap1.readImsFile(path=dirPath+fileName)\n",
    "snap1.rawData.head\n"
   ]
  }
 ],
 "metadata": {
  "kernelspec": {
   "display_name": "Python 3",
   "language": "python",
   "name": "python3"
  },
  "language_info": {
   "codemirror_mode": {
    "name": "ipython",
    "version": 3
   },
   "file_extension": ".py",
   "mimetype": "text/x-python",
   "name": "python",
   "nbconvert_exporter": "python",
   "pygments_lexer": "ipython3",
   "version": "3.11.2"
  },
  "orig_nbformat": 4
 },
 "nbformat": 4,
 "nbformat_minor": 2
}
