{
 "cells": [
  {
   "cell_type": "code",
   "execution_count": 15,
   "metadata": {},
   "outputs": [
    {
     "ename": "AttributeError",
     "evalue": "module 'data' has no attribute 'snapshot'",
     "output_type": "error",
     "traceback": [
      "\u001b[1;31m---------------------------------------------------------------------------\u001b[0m",
      "\u001b[1;31mAttributeError\u001b[0m                            Traceback (most recent call last)",
      "Cell \u001b[1;32mIn[15], line 10\u001b[0m\n\u001b[0;32m      7\u001b[0m dirPath \u001b[39m=\u001b[39m \u001b[39m\"\u001b[39m\u001b[39m./data/raw/1st_test_IMSBearing/\u001b[39m\u001b[39m\"\u001b[39m\n\u001b[0;32m      8\u001b[0m fileName \u001b[39m=\u001b[39m \u001b[39m\"\u001b[39m\u001b[39m2003.10.22.12.06.24\u001b[39m\u001b[39m\"\u001b[39m\n\u001b[1;32m---> 10\u001b[0m ap\u001b[39m.\u001b[39;49mdata\u001b[39m.\u001b[39;49msnapshot()\n",
      "\u001b[1;31mAttributeError\u001b[0m: module 'data' has no attribute 'snapshot'"
     ]
    }
   ],
   "source": [
    "import sys\n",
    "sys.path.append(\"..\")       # to make the upper folder visible\n",
    "import src as ap\n",
    "\n",
    "\n",
    "# folder path\n",
    "dirPath = \"./data/raw/1st_test_IMSBearing/\"\n",
    "fileName = \"2003.10.22.12.06.24\"\n",
    "\n",
    "ap.data.snapshot()\n",
    "\n"
   ]
  }
 ],
 "metadata": {
  "kernelspec": {
   "display_name": "Python 3",
   "language": "python",
   "name": "python3"
  },
  "language_info": {
   "codemirror_mode": {
    "name": "ipython",
    "version": 3
   },
   "file_extension": ".py",
   "mimetype": "text/x-python",
   "name": "python",
   "nbconvert_exporter": "python",
   "pygments_lexer": "ipython3",
   "version": "3.11.2"
  },
  "orig_nbformat": 4
 },
 "nbformat": 4,
 "nbformat_minor": 2
}
