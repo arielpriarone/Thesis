{
 "cells": [
  {
   "cell_type": "code",
   "execution_count": 3,
   "metadata": {},
   "outputs": [
    {
     "ename": "NameError",
     "evalue": "name 'freqAnaly' is not defined",
     "output_type": "error",
     "traceback": [
      "\u001b[1;31m---------------------------------------------------------------------------\u001b[0m",
      "\u001b[1;31mNameError\u001b[0m                                 Traceback (most recent call last)",
      "Cell \u001b[1;32mIn[3], line 35\u001b[0m\n\u001b[0;32m     33\u001b[0m     freqAnaly\u001b[39m=\u001b[39mfourierTransform[\u001b[39mrange\u001b[39m(\u001b[39mint\u001b[39m(\u001b[39mlen\u001b[39m(y)\u001b[39m/\u001b[39m\u001b[39m2\u001b[39m))]\n\u001b[0;32m     34\u001b[0m \u001b[39melse\u001b[39;00m:\n\u001b[1;32m---> 35\u001b[0m     np\u001b[39m.\u001b[39mappend(freqAnaly, fourierTransform[\u001b[39mrange\u001b[39m(\u001b[39mint\u001b[39m(\u001b[39mlen\u001b[39m(y)\u001b[39m/\u001b[39m\u001b[39m2\u001b[39m))],axis\u001b[39m=\u001b[39m\u001b[39m1\u001b[39m)       \u001b[39m# Exclude sampling frequency\u001b[39;00m\n\u001b[0;32m     36\u001b[0m values      \u001b[39m=\u001b[39m np\u001b[39m.\u001b[39marange(\u001b[39mint\u001b[39m(tpCount\u001b[39m/\u001b[39m\u001b[39m2\u001b[39m))\n\u001b[0;32m     37\u001b[0m timePeriod  \u001b[39m=\u001b[39m tpCount\u001b[39m/\u001b[39msamplFreq\n",
      "\u001b[1;31mNameError\u001b[0m: name 'freqAnaly' is not defined"
     ]
    }
   ],
   "source": [
    "%matplotlib widget\n",
    "import importlib\n",
    "import sys\n",
    "import matplotlib.pyplot as plt\n",
    "import numpy as np\n",
    "import os\n",
    "sys.path.append(\"..\")       # to make the upper folder visible\n",
    "import src\n",
    "_ = importlib.reload(src)   # this make changes in the src package immediately effective without restarting the kernel\n",
    "\n",
    "# folder path\n",
    "dirPath = \"../data/raw/1st_test_IMSBearing/\"\n",
    "indx=0\n",
    "for fileName in os.listdir(dirPath):\n",
    "    # check if current path is a file\n",
    "    if os.path.isfile(os.path.join(dirPath, fileName)):\n",
    "        # fileNames.append(filename)\n",
    "        snap=src.data.snapshot()\n",
    "        snap.readImsFile(path=dirPath+fileName, variables=\"Bearing 1 x\")\n",
    "        indx+=1\n",
    "        # ax=snap.rawData.plot(x='time',y='Bearing 1 x',legend=False)\n",
    "        # ax.grid(which='major',axis='both',color='grey', linestyle='-')\n",
    "        # ax.grid(which='minor',axis='both',color='grey', linestyle=':')\n",
    "        # ax.minorticks_on()\n",
    "        # plt.figure(clear=True)\n",
    "\n",
    "        # Frequency domain analisys\n",
    "        samplFreq=20000 #hz\n",
    "        y=snap.rawData[\"Bearing 1 x\"].to_numpy()\n",
    "        tpCount     = len(y)\n",
    "        fourierTransform = np.fft.fft(y)/len(y)                         # Normalize amplitude\n",
    "        if indx==0:\n",
    "            freqAnaly=fourierTransform[range(int(len(y)/2))]\n",
    "        else:\n",
    "            np.append(freqAnaly, fourierTransform[range(int(len(y)/2))],axis=1)       # Exclude sampling frequency\n",
    "        values      = np.arange(int(tpCount/2))\n",
    "        timePeriod  = tpCount/samplFreq\n",
    "        FFTfrequencies = values/timePeriod\n"
   ]
  },
  {
   "cell_type": "code",
   "execution_count": null,
   "metadata": {},
   "outputs": [],
   "source": [
    "\n",
    "# Frequency domain representation\n",
    "ax2=plt.subplot()\n",
    "ax2.plot(FFTfrequencies,abs(fourierTransform))\n",
    "ax2.minorticks_on()\n",
    "#ax1.set_xlim(0,3)\n",
    "#ax2.set_xlim(1,20)\n",
    "ax2.set_yscale('log')\n",
    "ax2.grid(which='major',color='grey',linestyle='--')\n",
    "ax2.grid(which='minor',color='grey',linestyle=':')\n",
    "print(ax2.get_xticks)\n",
    "ax2.set_xlabel(\"frequency [Hz]\")\n",
    "ax2.set_ylabel(\"amplitude\")"
   ]
  }
 ],
 "metadata": {
  "kernelspec": {
   "display_name": "Python 3",
   "language": "python",
   "name": "python3"
  },
  "language_info": {
   "codemirror_mode": {
    "name": "ipython",
    "version": 3
   },
   "file_extension": ".py",
   "mimetype": "text/x-python",
   "name": "python",
   "nbconvert_exporter": "python",
   "pygments_lexer": "ipython3",
   "version": "3.11.2"
  },
  "orig_nbformat": 4
 },
 "nbformat": 4,
 "nbformat_minor": 2
}
