{
 "cells": [
  {
   "cell_type": "code",
   "execution_count": 38,
   "metadata": {},
   "outputs": [],
   "source": [
    "import pywt\n",
    "def format_array(a):\n",
    "    \"\"\"Consistent array representation across different systems\"\"\"\n",
    "    import numpy\n",
    "    a = numpy.where(numpy.abs(a) < 1e-5, 0, a)\n",
    "    return numpy.array2string(a, precision=5, separator=' ', suppress_small=True)"
   ]
  },
  {
   "cell_type": "code",
   "execution_count": 51,
   "metadata": {},
   "outputs": [
    {
     "name": "stdout",
     "output_type": "stream",
     "text": [
      "['aaa', 'aad', 'add', 'ada', 'dda', 'ddd', 'dad', 'daa']\n"
     ]
    }
   ],
   "source": [
    "x = [1, 2, 3, 4, 5, 6, 7, 8]\n",
    "wp = pywt.WaveletPacket(data=x, wavelet='db1', mode='symmetric')\n",
    "nodes=[node.path for node in wp.get_level(3, 'freq')]\n",
    "print(nodes)"
   ]
  },
  {
   "cell_type": "code",
   "execution_count": 53,
   "metadata": {},
   "outputs": [
    {
     "name": "stdout",
     "output_type": "stream",
     "text": [
      "[1. 2. 3. 4. 5. 6. 7. 8.]\n"
     ]
    }
   ],
   "source": [
    "new_wp = pywt.WaveletPacket(data=None, wavelet='db1', mode='symmetric')\n",
    "for index in nodes:\n",
    "    new_wp[index]=wp[index].data\n",
    "\n",
    "print(new_wp.reconstruct(update=False))\n",
    "\n"
   ]
  }
 ],
 "metadata": {
  "kernelspec": {
   "display_name": "Python 3",
   "language": "python",
   "name": "python3"
  },
  "language_info": {
   "codemirror_mode": {
    "name": "ipython",
    "version": 3
   },
   "file_extension": ".py",
   "mimetype": "text/x-python",
   "name": "python",
   "nbconvert_exporter": "python",
   "pygments_lexer": "ipython3",
   "version": "3.11.2"
  },
  "orig_nbformat": 4
 },
 "nbformat": 4,
 "nbformat_minor": 2
}
