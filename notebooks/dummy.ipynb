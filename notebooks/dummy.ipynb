{
 "cells": [
  {
   "cell_type": "code",
   "execution_count": 38,
   "metadata": {},
   "outputs": [],
   "source": [
    "import pywt\n",
    "def format_array(a):\n",
    "    \"\"\"Consistent array representation across different systems\"\"\"\n",
    "    import numpy\n",
    "    a = numpy.where(numpy.abs(a) < 1e-5, 0, a)\n",
    "    return numpy.array2string(a, precision=5, separator=' ', suppress_small=True)"
   ]
  },
  {
   "cell_type": "code",
   "execution_count": 51,
   "metadata": {},
   "outputs": [
    {
     "name": "stdout",
     "output_type": "stream",
     "text": [
      "['aaa', 'aad', 'add', 'ada', 'dda', 'ddd', 'dad', 'daa']\n"
     ]
    }
   ],
   "source": [
    "x = [1, 2, 3, 4, 5, 6, 7, 8]\n",
    "wp = pywt.WaveletPacket(data=x, wavelet='db1', mode='symmetric')\n",
    "nodes=[node.path for node in wp.get_level(3, 'freq')]\n",
    "print(nodes)"
   ]
  },
  {
   "cell_type": "code",
   "execution_count": 53,
   "metadata": {},
   "outputs": [
    {
     "name": "stdout",
     "output_type": "stream",
     "text": [
      "[1. 2. 3. 4. 5. 6. 7. 8.]\n"
     ]
    }
   ],
   "source": [
    "new_wp = pywt.WaveletPacket(data=None, wavelet='db1', mode='symmetric')\n",
    "for index in nodes:\n",
    "    new_wp[index]=wp[index].data\n",
    "\n",
    "print(new_wp.reconstruct(update=False))\n",
    "\n"
   ]
  },
  {
   "cell_type": "code",
   "execution_count": 6,
   "metadata": {},
   "outputs": [
    {
     "data": {
      "text/plain": [
       "['Label_1',\n",
       " 'Label_2',\n",
       " 'Label_3',\n",
       " 'Label_4',\n",
       " 'Label_5',\n",
       " 'Label_6',\n",
       " 'Label_7',\n",
       " 'Label_8',\n",
       " 'Label_9',\n",
       " 'Label_10',\n",
       " 'Label_11',\n",
       " 'Label_12',\n",
       " 'Label_13',\n",
       " 'Label_14',\n",
       " 'Label_15',\n",
       " 'Label_16',\n",
       " 'Label_17',\n",
       " 'Label_18',\n",
       " 'Label_19',\n",
       " 'Label_20',\n",
       " 'Label_21',\n",
       " 'Label_22',\n",
       " 'Label_23',\n",
       " 'Label_24',\n",
       " 'Label_25',\n",
       " 'Label_26',\n",
       " 'Label_27',\n",
       " 'Label_28',\n",
       " 'Label_29',\n",
       " 'Label_30',\n",
       " 'Label_31',\n",
       " 'Label_32',\n",
       " 'Label_33',\n",
       " 'Label_34',\n",
       " 'Label_35',\n",
       " 'Label_36',\n",
       " 'Label_37',\n",
       " 'Label_38',\n",
       " 'Label_39',\n",
       " 'Label_40',\n",
       " 'Label_41',\n",
       " 'Label_42',\n",
       " 'Label_43',\n",
       " 'Label_44',\n",
       " 'Label_45',\n",
       " 'Label_46',\n",
       " 'Label_47',\n",
       " 'Label_48',\n",
       " 'Label_49',\n",
       " 'Label_50',\n",
       " 'Label_51',\n",
       " 'Label_52',\n",
       " 'Label_53',\n",
       " 'Label_54',\n",
       " 'Label_55',\n",
       " 'Label_56',\n",
       " 'Label_57',\n",
       " 'Label_58',\n",
       " 'Label_59',\n",
       " 'Label_60',\n",
       " 'Label_61',\n",
       " 'Label_62',\n",
       " 'Label_63',\n",
       " 'Label_64']"
      ]
     },
     "execution_count": 6,
     "metadata": {},
     "output_type": "execute_result"
    }
   ],
   "source": [
    "import matplotlib.pyplot as plt\n",
    "import matplotlib.ticker as ticker\n",
    "labels = ['Label_{}'.format(i) for i in range(1, 65)]\n",
    "labels\n"
   ]
  },
  {
   "cell_type": "code",
   "execution_count": 5,
   "metadata": {},
   "outputs": [
    {
     "name": "stderr",
     "output_type": "stream",
     "text": [
      "C:\\Users\\ariel\\AppData\\Local\\Temp\\ipykernel_6968\\2401767291.py:5: RuntimeWarning: divide by zero encountered in scalar floor_divide\n",
      "  tick_step = max(num_labels // num_ticks, 1)\n"
     ]
    },
    {
     "ename": "TypeError",
     "evalue": "'numpy.float64' object cannot be interpreted as an integer",
     "output_type": "error",
     "traceback": [
      "\u001b[1;31m---------------------------------------------------------------------------\u001b[0m",
      "\u001b[1;31mTypeError\u001b[0m                                 Traceback (most recent call last)",
      "Cell \u001b[1;32mIn[5], line 19\u001b[0m\n\u001b[0;32m     16\u001b[0m fig_width \u001b[39m=\u001b[39m fig\u001b[39m.\u001b[39mget_figwidth()\n\u001b[0;32m     18\u001b[0m \u001b[39m# Set the x-axis tick locator\u001b[39;00m\n\u001b[1;32m---> 19\u001b[0m ax\u001b[39m.\u001b[39mxaxis\u001b[39m.\u001b[39mset_major_locator(ticker\u001b[39m.\u001b[39mFixedLocator(custom_tick_locator(fig_width)))\n\u001b[0;32m     21\u001b[0m \u001b[39m# Set the tick labels using the subset of labels\u001b[39;00m\n\u001b[0;32m     22\u001b[0m ax\u001b[39m.\u001b[39mset_xticklabels([labels[i] \u001b[39mfor\u001b[39;00m i \u001b[39min\u001b[39;00m custom_tick_locator(fig_width)])\n",
      "Cell \u001b[1;32mIn[5], line 6\u001b[0m, in \u001b[0;36mcustom_tick_locator\u001b[1;34m(width)\u001b[0m\n\u001b[0;32m      4\u001b[0m num_ticks \u001b[39m=\u001b[39m width \u001b[39m/\u001b[39m\u001b[39m/\u001b[39m \u001b[39m100\u001b[39m  \u001b[39m# Adjust the divisor based on your preference\u001b[39;00m\n\u001b[0;32m      5\u001b[0m tick_step \u001b[39m=\u001b[39m \u001b[39mmax\u001b[39m(num_labels \u001b[39m/\u001b[39m\u001b[39m/\u001b[39m num_ticks, \u001b[39m1\u001b[39m)\n\u001b[1;32m----> 6\u001b[0m \u001b[39mreturn\u001b[39;00m \u001b[39mrange\u001b[39;49m(\u001b[39m0\u001b[39;49m, num_labels, tick_step)\n",
      "\u001b[1;31mTypeError\u001b[0m: 'numpy.float64' object cannot be interpreted as an integer"
     ]
    },
    {
     "data": {
      "image/png": "[encoded data removed]",
      "text/plain": [
       "<Figure size 1000x500 with 1 Axes>"
      ]
     },
     "metadata": {},
     "output_type": "display_data"
    }
   ],
   "source": [
    "def custom_tick_locator(width):\n",
    "    # Function to select the subset of tick locations based on the width of the plot\n",
    "    num_labels = len(labels)\n",
    "    num_ticks = width // 100  # Adjust the divisor based on your preference\n",
    "    tick_step = max(num_labels // num_ticks, 1)\n",
    "    return range(0, num_labels, tick_step)\n",
    "\n",
    "# Create a figure and axis\n",
    "fig, ax = plt.subplots(figsize=(10, 5))  # Adjust figsize as needed\n",
    "\n",
    "# Plot your data (replace 'data' with your actual data)\n",
    "data = [i**2 for i in range(1, 65)]\n",
    "ax.plot(data)\n",
    "\n",
    "# Get the current figure width\n",
    "fig_width = fig.get_figwidth()\n",
    "\n",
    "# Set the x-axis tick locator\n",
    "ax.xaxis.set_major_locator(ticker.FixedLocator(custom_tick_locator(fig_width)))\n",
    "\n",
    "# Set the tick labels using the subset of labels\n",
    "ax.set_xticklabels([labels[i] for i in custom_tick_locator(fig_width)])\n",
    "\n",
    "# Rotate the tick labels if needed\n",
    "plt.xticks(rotation=45)\n",
    "\n",
    "# Show the plot\n",
    "plt.show()"
   ]
  }
 ],
 "metadata": {
  "kernelspec": {
   "display_name": "Python 3",
   "language": "python",
   "name": "python3"
  },
  "language_info": {
   "codemirror_mode": {
    "name": "ipython",
    "version": 3
   },
   "file_extension": ".py",
   "mimetype": "text/x-python",
   "name": "python",
   "nbconvert_exporter": "python",
   "pygments_lexer": "ipython3",
   "version": "3.11.2"
  },
  "orig_nbformat": 4
 },
 "nbformat": 4,
 "nbformat_minor": 2
}
