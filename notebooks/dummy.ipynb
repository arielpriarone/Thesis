{
 "cells": [
  {
   "cell_type": "code",
   "execution_count": null,
   "metadata": {},
   "outputs": [],
   "source": [
    "import pywt\n",
    "def format_array(a):\n",
    "    \"\"\"Consistent array representation across different systems\"\"\"\n",
    "    import numpy\n",
    "    a = numpy.where(numpy.abs(a) < 1e-5, 0, a)\n",
    "    return numpy.array2string(a, precision=5, separator=' ', suppress_small=True)"
   ]
  },
  {
   "cell_type": "code",
   "execution_count": null,
   "metadata": {},
   "outputs": [],
   "source": [
    "x = [1, 2, 3, 4, 5, 6, 7, 8]\n",
    "wp = pywt.WaveletPacket(data=x, wavelet='db1', mode='symmetric')\n",
    "nodes=[node.path for node in wp.get_level(3, 'freq')]\n",
    "print(nodes)"
   ]
  },
  {
   "cell_type": "code",
   "execution_count": null,
   "metadata": {},
   "outputs": [],
   "source": [
    "new_wp = pywt.WaveletPacket(data=None, wavelet='db1', mode='symmetric')\n",
    "for index in nodes:\n",
    "    new_wp[index]=wp[index].data\n",
    "\n",
    "print(new_wp.reconstruct(update=False))\n",
    "\n"
   ]
  },
  {
   "cell_type": "code",
   "execution_count": null,
   "metadata": {},
   "outputs": [],
   "source": [
    "import matplotlib.pyplot as plt\n",
    "import matplotlib.ticker as ticker\n",
    "labels = ['Label_{}'.format(i) for i in range(1, 65)]\n",
    "labels\n"
   ]
  },
  {
   "cell_type": "code",
   "execution_count": null,
   "metadata": {},
   "outputs": [],
   "source": [
    "def custom_tick_locator(width):\n",
    "    # Function to select the subset of tick locations based on the width of the plot\n",
    "    num_labels = len(labels)\n",
    "    num_ticks = width // 100  # Adjust the divisor based on your preference\n",
    "    tick_step = max(num_labels // num_ticks, 1)\n",
    "    return range(0, num_labels, tick_step)\n",
    "\n",
    "# Create a figure and axis\n",
    "fig, ax = plt.subplots(figsize=(10, 5))  # Adjust figsize as needed\n",
    "\n",
    "# Plot your data (replace 'data' with your actual data)\n",
    "data = [i**2 for i in range(1, 65)]\n",
    "ax.plot(data)\n",
    "\n",
    "# Get the current figure width\n",
    "fig_width = fig.get_figwidth()\n",
    "\n",
    "# Set the x-axis tick locator\n",
    "ax.xaxis.set_major_locator(ticker.FixedLocator(custom_tick_locator(fig_width)))\n",
    "\n",
    "# Set the tick labels using the subset of labels\n",
    "ax.set_xticklabels([labels[i] for i in custom_tick_locator(fig_width)])\n",
    "\n",
    "# Rotate the tick labels if needed\n",
    "plt.xticks(rotation=45)\n",
    "\n",
    "# Show the plot\n",
    "plt.show()"
   ]
  },
  {
   "cell_type": "code",
   "execution_count": null,
   "metadata": {},
   "outputs": [],
   "source": [
    "from datetime import datetime\n",
    "import src\n",
    "MongoClient, Database, Collection = src.data.MongoConnect('IMS','RAW','mongodb://localhost:27017')\n",
    "mydate=datetime.fromisoformat('2003-10-22T12:09:13.000+00:00')\n",
    "res=Collection.find({'timestamp': mydate})[0]\n",
    "print(res)"
   ]
  },
  {
   "cell_type": "code",
   "execution_count": null,
   "metadata": {},
   "outputs": [],
   "source": []
  }
 ],
 "metadata": {
  "kernelspec": {
   "display_name": "Python 3",
   "language": "python",
   "name": "python3"
  },
  "language_info": {
   "codemirror_mode": {
    "name": "ipython",
    "version": 3
   },
   "file_extension": ".py",
   "mimetype": "text/x-python",
   "name": "python",
   "nbconvert_exporter": "python",
   "pygments_lexer": "ipython3",
   "version": "3.11.2"
  },
  "orig_nbformat": 4
 },
 "nbformat": 4,
 "nbformat_minor": 2
}
